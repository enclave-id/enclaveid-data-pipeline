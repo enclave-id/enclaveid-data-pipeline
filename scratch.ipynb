{
 "cells": [
  {
   "cell_type": "markdown",
   "metadata": {},
   "source": [
    "# Simulated Dataset"
   ]
  },
  {
   "cell_type": "code",
   "execution_count": 1,
   "metadata": {},
   "outputs": [
    {
     "data": {
      "text/plain": [
       "True"
      ]
     },
     "execution_count": 1,
     "metadata": {},
     "output_type": "execute_result"
    }
   ],
   "source": [
    "import polars as pl\n",
    "from upath import UPath\n",
    "from dotenv import load_dotenv\n",
    "from enclaveid_data_pipeline_tests.test_utils import make_simulated_dataset\n",
    "\n",
    "load_dotenv()"
   ]
  },
  {
   "cell_type": "code",
   "execution_count": 9,
   "metadata": {},
   "outputs": [
    {
     "name": "stdout",
     "output_type": "stream",
     "text": [
      "shape: (2, 7)\n",
      "┌────────┬───────────────┬───────────────┬──────────────┬────────────┬──────────────┬──────────────┐\n",
      "│ header ┆ title         ┆ titleUrl      ┆ time         ┆ products   ┆ activityCont ┆ locationInfo │\n",
      "│ ---    ┆ ---           ┆ ---           ┆ ---          ┆ ---        ┆ rols         ┆ s            │\n",
      "│ str    ┆ str           ┆ str           ┆ datetime[μs] ┆ list[str]  ┆ ---          ┆ ---          │\n",
      "│        ┆               ┆               ┆              ┆            ┆ list[str]    ┆ list[struct[ │\n",
      "│        ┆               ┆               ┆              ┆            ┆              ┆ 3]]          │\n",
      "╞════════╪═══════════════╪═══════════════╪══════════════╪════════════╪══════════════╪══════════════╡\n",
      "│ Search ┆ Searched for  ┆ https://www.g ┆ 2023-04-01   ┆ [\"Search\"] ┆ [\"Web & App  ┆ [{\"At this   │\n",
      "│        ┆ car share app ┆ oogle.com/sea ┆ 07:56:19.202 ┆            ┆ Activity\"]   ┆ general area │\n",
      "│        ┆ malag…        ┆ rch?q=…       ┆              ┆            ┆              ┆ \",\"https:…   │\n",
      "│ Search ┆ Searched for  ┆ https://www.g ┆ 2023-04-01   ┆ [\"Search\"] ┆ [\"Web & App  ┆ [{\"At this   │\n",
      "│        ┆ zipcar        ┆ oogle.com/sea ┆ 08:06:19.202 ┆            ┆ Activity\"]   ┆ general area │\n",
      "│        ┆               ┆ rch?q=…       ┆              ┆            ┆              ┆ \",\"https:…   │\n",
      "└────────┴───────────────┴───────────────┴──────────────┴────────────┴──────────────┴──────────────┘\n"
     ]
    }
   ],
   "source": [
    "p = UPath(\"az://enclaveid-production-bucket/user_1/MyActivity.json\")\n",
    "\n",
    "with p.open(\"rb\") as f:\n",
    "    activity_df = pl.read_json(f.read(), schema_overrides={\"time\": pl.Datetime})\n",
    "\n",
    "print(activity_df.head(2))"
   ]
  },
  {
   "cell_type": "code",
   "execution_count": 10,
   "metadata": {},
   "outputs": [
    {
     "name": "stdout",
     "output_type": "stream",
     "text": [
      "shape: (2, 2)\n",
      "┌────────────┬───────┐\n",
      "│ day        ┆ count │\n",
      "│ ---        ┆ ---   │\n",
      "│ date       ┆ i64   │\n",
      "╞════════════╪═══════╡\n",
      "│ 2018-11-07 ┆ 6     │\n",
      "│ 2018-11-08 ┆ 22    │\n",
      "└────────────┴───────┘\n"
     ]
    }
   ],
   "source": [
    "p = UPath(\"az://enclaveid-production-bucket/records_per_day.csv\")\n",
    "\n",
    "with p.open(\"rb\") as f:\n",
    "    counts_df = pl.read_csv(f.read(), schema={\"day\": pl.Date, \"count\": pl.Int64})\n",
    "print(counts_df.head(2))"
   ]
  },
  {
   "cell_type": "code",
   "execution_count": 11,
   "metadata": {},
   "outputs": [
    {
     "name": "stdout",
     "output_type": "stream",
     "text": [
      "shape: (2, 7)\n",
      "┌────────┬───────────────┬───────────────┬──────────────┬────────────┬──────────────┬──────────────┐\n",
      "│ header ┆ title         ┆ titleUrl      ┆ time         ┆ products   ┆ activityCont ┆ locationInfo │\n",
      "│ ---    ┆ ---           ┆ ---           ┆ ---          ┆ ---        ┆ rols         ┆ s            │\n",
      "│ str    ┆ str           ┆ str           ┆ datetime[μs] ┆ list[str]  ┆ ---          ┆ ---          │\n",
      "│        ┆               ┆               ┆              ┆            ┆ list[str]    ┆ list[struct[ │\n",
      "│        ┆               ┆               ┆              ┆            ┆              ┆ 3]]          │\n",
      "╞════════╪═══════════════╪═══════════════╪══════════════╪════════════╪══════════════╪══════════════╡\n",
      "│ Search ┆ Visited Bird  ┆ https://www.g ┆ 2018-11-07   ┆ [\"Search\"] ┆ [\"Web & App  ┆ [{\"At this   │\n",
      "│        ┆ of Paradise   ┆ oogle.com/sea ┆ 11:53:19.202 ┆            ┆ Activity\"]   ┆ general area │\n",
      "│        ┆ Care - …      ┆ rch?q=…       ┆              ┆            ┆              ┆ \",\"https:…   │\n",
      "│ Search ┆ Searched for  ┆ https://www.g ┆ 2018-11-07   ┆ [\"Search\"] ┆ [\"Web & App  ┆ [{\"At this   │\n",
      "│        ┆ canadian      ┆ oogle.com/sea ┆ 15:16:19.202 ┆            ┆ Activity\"]   ┆ general area │\n",
      "│        ┆ watch         ┆ rch?q=…       ┆              ┆            ┆              ┆ \",\"https:…   │\n",
      "└────────┴───────────────┴───────────────┴──────────────┴────────────┴──────────────┴──────────────┘\n"
     ]
    }
   ],
   "source": [
    "sim_df = make_simulated_dataset(counts_df, activity_df)\n",
    "print(sim_df.head(2))"
   ]
  },
  {
   "cell_type": "code",
   "execution_count": 12,
   "metadata": {},
   "outputs": [
    {
     "data": {
      "text/plain": [
       "True"
      ]
     },
     "execution_count": 12,
     "metadata": {},
     "output_type": "execute_result"
    }
   ],
   "source": [
    "# Write to local disk\n",
    "sim_path = \"data/user_simulated/MyActivity.json\"\n",
    "sim_df.write_json(sim_path, row_oriented=True)\n",
    "\n",
    "# Test that the two are equivalent\n",
    "pl.read_json(sim_path, schema_overrides={\"time\": pl.Datetime}).equals(sim_df)"
   ]
  },
  {
   "cell_type": "code",
   "execution_count": 13,
   "metadata": {},
   "outputs": [],
   "source": [
    "cloud_path = UPath(\"az://enclaveid-production-bucket/user_simulated/MyActivity.json\")\n",
    "\n",
    "# Save to cloud bucket\n",
    "with cloud_path.open(\"w\") as f:\n",
    "    f.write(sim_df.write_json(row_oriented=True, pretty=False))"
   ]
  },
  {
   "cell_type": "code",
   "execution_count": 14,
   "metadata": {},
   "outputs": [
    {
     "data": {
      "text/plain": [
       "True"
      ]
     },
     "execution_count": 14,
     "metadata": {},
     "output_type": "execute_result"
    }
   ],
   "source": [
    "# Read from cloud bucket\n",
    "with cloud_path.open(\"rb\") as f:\n",
    "    cloud_df = pl.read_json(f.read(), schema_overrides={\"time\": pl.Datetime})\n",
    "\n",
    "# Test that the two are equivalent\n",
    "cloud_df.equals(sim_df)"
   ]
  },
  {
   "cell_type": "code",
   "execution_count": null,
   "metadata": {},
   "outputs": [],
   "source": []
  }
 ],
 "metadata": {
  "kernelspec": {
   "display_name": "enclave",
   "language": "python",
   "name": "python3"
  },
  "language_info": {
   "codemirror_mode": {
    "name": "ipython",
    "version": 3
   },
   "file_extension": ".py",
   "mimetype": "text/x-python",
   "name": "python",
   "nbconvert_exporter": "python",
   "pygments_lexer": "ipython3",
   "version": "3.10.14"
  }
 },
 "nbformat": 4,
 "nbformat_minor": 2
}
